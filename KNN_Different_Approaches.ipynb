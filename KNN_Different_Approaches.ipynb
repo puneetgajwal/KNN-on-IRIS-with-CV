{
 "cells": [
  {
   "cell_type": "code",
   "execution_count": 68,
   "metadata": {},
   "outputs": [],
   "source": [
    "import pandas as pd\n",
    "import seaborn as sns\n",
    "import numpy as np\n",
    "import matplotlib.pyplot as plt\n",
    "from matplotlib.colors import ListedColormap\n",
    "from sklearn.neighbors import KNeighborsClassifier\n",
    "from sklearn.cross_validation import train_test_split\n",
    "from sklearn.metrics import accuracy_score\n",
    "from sklearn.cross_validation import  cross_val_score\n",
    "from collections import Counter"
   ]
  },
  {
   "cell_type": "code",
   "execution_count": 16,
   "metadata": {},
   "outputs": [
    {
     "data": {
      "text/html": [
       "<div>\n",
       "<style scoped>\n",
       "    .dataframe tbody tr th:only-of-type {\n",
       "        vertical-align: middle;\n",
       "    }\n",
       "\n",
       "    .dataframe tbody tr th {\n",
       "        vertical-align: top;\n",
       "    }\n",
       "\n",
       "    .dataframe thead th {\n",
       "        text-align: right;\n",
       "    }\n",
       "</style>\n",
       "<table border=\"1\" class=\"dataframe\">\n",
       "  <thead>\n",
       "    <tr style=\"text-align: right;\">\n",
       "      <th></th>\n",
       "      <th>sepal.length</th>\n",
       "      <th>sepal.width</th>\n",
       "      <th>petal.length</th>\n",
       "      <th>petal.width</th>\n",
       "      <th>variety</th>\n",
       "    </tr>\n",
       "  </thead>\n",
       "  <tbody>\n",
       "    <tr>\n",
       "      <th>0</th>\n",
       "      <td>5.1</td>\n",
       "      <td>3.5</td>\n",
       "      <td>1.4</td>\n",
       "      <td>0.2</td>\n",
       "      <td>Setosa</td>\n",
       "    </tr>\n",
       "    <tr>\n",
       "      <th>1</th>\n",
       "      <td>4.9</td>\n",
       "      <td>3.0</td>\n",
       "      <td>1.4</td>\n",
       "      <td>0.2</td>\n",
       "      <td>Setosa</td>\n",
       "    </tr>\n",
       "    <tr>\n",
       "      <th>2</th>\n",
       "      <td>4.7</td>\n",
       "      <td>3.2</td>\n",
       "      <td>1.3</td>\n",
       "      <td>0.2</td>\n",
       "      <td>Setosa</td>\n",
       "    </tr>\n",
       "    <tr>\n",
       "      <th>3</th>\n",
       "      <td>4.6</td>\n",
       "      <td>3.1</td>\n",
       "      <td>1.5</td>\n",
       "      <td>0.2</td>\n",
       "      <td>Setosa</td>\n",
       "    </tr>\n",
       "    <tr>\n",
       "      <th>4</th>\n",
       "      <td>5.0</td>\n",
       "      <td>3.6</td>\n",
       "      <td>1.4</td>\n",
       "      <td>0.2</td>\n",
       "      <td>Setosa</td>\n",
       "    </tr>\n",
       "  </tbody>\n",
       "</table>\n",
       "</div>"
      ],
      "text/plain": [
       "   sepal.length  sepal.width  petal.length  petal.width variety\n",
       "0           5.1          3.5           1.4          0.2  Setosa\n",
       "1           4.9          3.0           1.4          0.2  Setosa\n",
       "2           4.7          3.2           1.3          0.2  Setosa\n",
       "3           4.6          3.1           1.5          0.2  Setosa\n",
       "4           5.0          3.6           1.4          0.2  Setosa"
      ]
     },
     "execution_count": 16,
     "metadata": {},
     "output_type": "execute_result"
    }
   ],
   "source": [
    "# Importing dataset\n",
    "\n",
    "iris = pd.read_csv(\"iris.csv\")\n",
    "iris.head()"
   ]
  },
  {
   "cell_type": "code",
   "execution_count": 17,
   "metadata": {},
   "outputs": [],
   "source": [
    "# Shuffling dataset\n",
    "from sklearn.utils import shuffle\n",
    "iris=shuffle(iris)\n",
    "# Seperating labels from iris\n",
    "variety=iris['variety']\n",
    "iris=iris.drop('variety',axis=1)\n",
    "# We have random data with labels in different variable"
   ]
  },
  {
   "cell_type": "code",
   "execution_count": 28,
   "metadata": {},
   "outputs": [
    {
     "data": {
      "text/plain": [
       "(120, 4)"
      ]
     },
     "execution_count": 28,
     "metadata": {},
     "output_type": "execute_result"
    }
   ],
   "source": [
    "# Splitting data into test and train\n",
    "iris_train,iris_test,variety_train,variety_test=train_test_split(iris,variety,test_size=0.2)\n",
    "# First split with train size=80%, test size=20%\n",
    "#iris_test and variety_test will be used in prediction"
   ]
  },
  {
   "cell_type": "code",
   "execution_count": 31,
   "metadata": {},
   "outputs": [],
   "source": [
    "# splitting data into cross validation data from iris_train\n",
    "iris_train_knn,iris_cv,variety_train_knn,variety_cv=train_test_split(iris_train,variety_train,test_size=0.3)\n",
    "# Second split iris_test_knn 84 points, iris_cv 36 points."
   ]
  },
  {
   "cell_type": "code",
   "execution_count": 38,
   "metadata": {},
   "outputs": [
    {
     "name": "stdout",
     "output_type": "stream",
     "text": [
      "\n",
      " CV k,accuracy (1, 97.22222222222221)\n",
      "\n",
      " CV k,accuracy (3, 97.22222222222221)\n",
      "\n",
      " CV k,accuracy (5, 100.0)\n",
      "\n",
      " CV k,accuracy (7, 100.0)\n",
      "\n",
      " CV k,accuracy (9, 97.22222222222221)\n",
      "\n",
      " CV k,accuracy (11, 97.22222222222221)\n",
      "\n",
      " CV k,accuracy (13, 97.22222222222221)\n",
      "\n",
      " CV k,accuracy (15, 100.0)\n",
      "\n",
      " CV k,accuracy (17, 97.22222222222221)\n",
      "\n",
      " CV k,accuracy (19, 100.0)\n",
      "\n",
      " CV k,accuracy (21, 100.0)\n",
      "\n",
      " CV k,accuracy (23, 100.0)\n",
      "\n",
      " CV k,accuracy (25, 97.22222222222221)\n",
      "\n",
      " CV k,accuracy (27, 97.22222222222221)\n",
      "\n",
      " CV k,accuracy (29, 97.22222222222221)\n",
      "\n",
      " CV k,accuracy (31, 97.22222222222221)\n",
      "\n",
      " CV k,accuracy (33, 97.22222222222221)\n",
      "\n",
      " CV k,accuracy (35, 97.22222222222221)\n",
      "\n",
      " CV k,accuracy (37, 97.22222222222221)\n",
      "\n",
      " CV k,accuracy (39, 100.0)\n"
     ]
    }
   ],
   "source": [
    "# Prediction on iris_cv for optimum k\n",
    "for i in range(1,40,2):\n",
    "    knn=KNeighborsClassifier(n_neighbors=i)\n",
    "    #fitting model with k=1,2,5....39 on iris_train_knn\n",
    "    knn.fit(iris_train_knn,variety_train_knn)\n",
    "    #predicting on iris_cv\n",
    "    pred=knn.predict(iris_cv)\n",
    "    #Evaluationg Accuracy\n",
    "    acc=accuracy_score(variety_cv,pred,normalize=True)*float(100)\n",
    "    print(\"\\n CV k,accuracy\",(i,acc))"
   ]
  },
  {
   "cell_type": "code",
   "execution_count": 48,
   "metadata": {},
   "outputs": [
    {
     "name": "stdout",
     "output_type": "stream",
     "text": [
      "\n",
      " K,accuracy for shortlisted neighbors is  (5, 100.0)\n",
      "\n",
      " K,accuracy for shortlisted neighbors is  (7, 100.0)\n",
      "\n",
      " K,accuracy for shortlisted neighbors is  (15, 100.0)\n",
      "\n",
      " K,accuracy for shortlisted neighbors is  (19, 100.0)\n",
      "\n",
      " K,accuracy for shortlisted neighbors is  (21, 100.0)\n",
      "\n",
      " K,accuracy for shortlisted neighbors is  (23, 100.0)\n",
      "\n",
      " K,accuracy for shortlisted neighbors is  (39, 90.0)\n"
     ]
    }
   ],
   "source": [
    "#Here we can see that we have accuracy=100% on 5,7,15,19,21,23,39\n",
    "# Fitting Actual Model on test data that we left earier\n",
    "n_list=[5,7,15,19,21,23,39]\n",
    "for k in n_list:\n",
    "    knn=KNeighborsClassifier(n_neighbors=k)    \n",
    "    knn.fit(iris_train_knn,variety_train_knn)\n",
    "    pred=knn.predict(iris_test)\n",
    "    acc=accuracy_score(variety_test,pred,normalize=True)*float(100)\n",
    "    print(\"\\n K,accuracy for shortlisted neighbors is \", (k,acc))\n",
    "#100% accuracy on 5,7,15,19,21,23"
   ]
  },
  {
   "cell_type": "code",
   "execution_count": 54,
   "metadata": {},
   "outputs": [
    {
     "name": "stdout",
     "output_type": "stream",
     "text": [
      "Optimal k= 13\n"
     ]
    }
   ],
   "source": [
    "############################ 10 Fold Cross Validation ############################\n",
    "cv_scores=[]\n",
    "neighbors=np.arange(1,40,2)\n",
    "for k in neighbors:\n",
    "    knn=KNeighborsClassifier(n_neighbors=k)    \n",
    "    scores=cross_val_score(knn,iris_train,variety_train,cv=10,scoring='accuracy')\n",
    "    #Considering mean value of 10 fold CV and appending in cv score list\n",
    "    cv_scores.append(scores.mean())\n",
    "    \n",
    "#Error instead of accuracy\n",
    "MSE=[1-x for x in cv_scores]\n",
    "optimal_k=neighbors[MSE.index(min(MSE))]\n",
    "#Returns k values for minimum error\n",
    "#take max in case of accuracy\n",
    "print(\"Optimal k=\", optimal_k)\n"
   ]
  },
  {
   "cell_type": "code",
   "execution_count": 59,
   "metadata": {},
   "outputs": [
    {
     "data": {
      "image/png": "[encoded data removed]",
      "text/plain": [
       "<Figure size 432x288 with 1 Axes>"
      ]
     },
     "metadata": {
      "needs_background": "light"
     },
     "output_type": "display_data"
    }
   ],
   "source": [
    "#Plotting misclassification error vs k plot\n",
    "plt.plot(neighbors,MSE)\n",
    "for xy in zip(neighbors,np.round(MSE,2)):\n",
    "    plt.annotate('(%s,%s)'%xy,xy=xy)\n",
    "plt.show()\n",
    "#Below clearly show that k=(13,15,20) have low levels of miss-classification"
   ]
  },
  {
   "cell_type": "code",
   "execution_count": 62,
   "metadata": {},
   "outputs": [
    {
     "name": "stdout",
     "output_type": "stream",
     "text": [
      "\n",
      " K,accuracy for shortlisted neighbors is  (13, 100.0)\n",
      "\n",
      " K,accuracy for shortlisted neighbors is  (15, 100.0)\n",
      "\n",
      " K,accuracy for shortlisted neighbors is  (20, 96.66666666666667)\n"
     ]
    }
   ],
   "source": [
    "#Applying above on actual test data\n",
    "n_list=[13,15,20]\n",
    "for k in n_list:\n",
    "    knn=KNeighborsClassifier(n_neighbors=k)    \n",
    "    knn.fit(iris_train_knn,variety_train_knn)\n",
    "    pred=knn.predict(iris_test)\n",
    "    acc=accuracy_score(variety_test,pred,normalize=True)*float(100)\n",
    "    print(\"\\n K,accuracy for shortlisted neighbors is \", (k,acc))\n",
    "# For k=13,15 we have 100% Accuracy"
   ]
  },
  {
   "cell_type": "code",
   "execution_count": null,
   "metadata": {},
   "outputs": [],
   "source": []
  },
  {
   "cell_type": "code",
   "execution_count": null,
   "metadata": {},
   "outputs": [],
   "source": []
  },
  {
   "cell_type": "code",
   "execution_count": null,
   "metadata": {},
   "outputs": [],
   "source": []
  },
  {
   "cell_type": "code",
   "execution_count": null,
   "metadata": {},
   "outputs": [],
   "source": []
  },
  {
   "cell_type": "code",
   "execution_count": null,
   "metadata": {},
   "outputs": [],
   "source": []
  },
  {
   "cell_type": "code",
   "execution_count": null,
   "metadata": {},
   "outputs": [],
   "source": []
  },
  {
   "cell_type": "code",
   "execution_count": null,
   "metadata": {},
   "outputs": [],
   "source": []
  },
  {
   "cell_type": "code",
   "execution_count": null,
   "metadata": {},
   "outputs": [],
   "source": []
  },
  {
   "cell_type": "code",
   "execution_count": null,
   "metadata": {},
   "outputs": [],
   "source": []
  },
  {
   "cell_type": "code",
   "execution_count": null,
   "metadata": {},
   "outputs": [],
   "source": []
  },
  {
   "cell_type": "code",
   "execution_count": null,
   "metadata": {},
   "outputs": [],
   "source": []
  },
  {
   "cell_type": "code",
   "execution_count": null,
   "metadata": {},
   "outputs": [],
   "source": []
  },
  {
   "cell_type": "code",
   "execution_count": null,
   "metadata": {},
   "outputs": [],
   "source": []
  },
  {
   "cell_type": "code",
   "execution_count": null,
   "metadata": {},
   "outputs": [],
   "source": []
  },
  {
   "cell_type": "code",
   "execution_count": null,
   "metadata": {},
   "outputs": [],
   "source": []
  },
  {
   "cell_type": "code",
   "execution_count": null,
   "metadata": {},
   "outputs": [],
   "source": []
  }
 ],
 "metadata": {
  "kernelspec": {
   "display_name": "Python 3",
   "language": "python",
   "name": "python3"
  },
  "language_info": {
   "codemirror_mode": {
    "name": "ipython",
    "version": 3
   },
   "file_extension": ".py",
   "mimetype": "text/x-python",
   "name": "python",
   "nbconvert_exporter": "python",
   "pygments_lexer": "ipython3",
   "version": "3.6.5"
  }
 },
 "nbformat": 4,
 "nbformat_minor": 4
}
